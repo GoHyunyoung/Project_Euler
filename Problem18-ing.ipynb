{
 "metadata": {
  "name": "",
  "signature": "sha256:67c31dacf17f8a7efe4ce15ffd5576955a620051172325bcf9844e76d565c5b3"
 },
 "nbformat": 3,
 "nbformat_minor": 0,
 "worksheets": [
  {
   "cells": [
    {
     "cell_type": "markdown",
     "metadata": {},
     "source": [
      "<a href='http://euler.synap.co.kr/prob_detail.php?id=18'>\n",
      "<h2>Question_18</h2></a><br>\n",
      "\n",
      "---\n",
      "\ub2e4\uc74c\uacfc \uac19\uc774 \uc0bc\uac01\ud615 \ubaa8\uc591\uc73c\ub85c \uc22b\uc790\ub97c \ubc30\uc5f4\ud588\uc2b5\ub2c8\ub2e4.\n",
      "<center>\n",
      "<font color='red'>3<br/></font>\n",
      "<font color='red'>7</font> 4<br/>\n",
      "2 <font color='red'>4</font> 6<br/>\n",
      "8 5 <font color='red'>9</font> 3<br/>\n",
      "</center>\n",
      "\n",
      "\uc0bc\uac01\ud615\uc758 \uaf2d\ub300\uae30\ubd80\ud130 \uc544\ub798\ucabd\uc73c\ub85c \uc778\uc811\ud55c \uc22b\uc790\ub97c \ucc3e\uc544 \ub0b4\ub824\uac00\uba74\uc11c \ud569\uc744 \uad6c\ud558\uba74, \uc704\uc758 \uadf8\ub9bc\ucc98\ub7fc 3 + 7 + 4 + 9 = 23 \uc774 \uac00\uc7a5 \ud070 \ud569\uc744 \uac16\ub294 \uacbd\ub85c\uac00 \ub429\ub2c8\ub2e4.\n",
      "\n",
      "\ub2e4\uc74c \uc0bc\uac01\ud615\uc5d0\uc11c \ud569\uc774 \ucd5c\ub300\uac00 \ub418\ub294 \uacbd\ub85c\ub97c \ucc3e\uc544\uc11c \uadf8 \ud569\uc744 \uad6c\ud558\uc138\uc694.\n",
      "<center>\n",
      "75<br/>\n",
      "95 64<br/>\n",
      "17 47 82<br/>\n",
      "18 35 87 10<br/>\n",
      "20 04 82 47 65<br/>\n",
      "19 01 23 75 03 34<br/>\n",
      "88 02 77 73 07 63 67<br/>\n",
      "99 65 04 28 06 16 70 92<br/>\n",
      "41 41 26 56 83 40 80 70 33<br/>\n",
      "41 48 72 33 47 32 37 16 94 29<br/>\n",
      "53 71 44 65 25 43 91 52 97 51 14<br/>\n",
      "70 11 33 28 77 73 17 78 39 68 17 57<br/>\n",
      "91 71 52 38 17 14 91 43 58 50 27 29 48<br/>\n",
      "63 66 04 68 89 53 67 30 73 16 69 87 40 31<br/>\n",
      "04 62 98 27 23 09 70 98 73 93 38 53 60 04 23<br/>\n",
      "</center>\n",
      "\n",
      "\ucc38\uace0: \uc5ec\uae30\uc11c\ub294 \uacbd\ub85c\uac00 16384\uac1c\ubc16\uc5d0 \uc548\ub418\uae30 \ub54c\ubb38\uc5d0, \ubaa8\ub4e0 \uacbd\ub85c\uc758 \ud569\uc744 \uc77c\uc77c\uc774 \uacc4\uc0b0\ud574\uc11c \ub2f5\uc744 \uad6c\ud558\ub294 \uac83\uc774 \uac00\ub2a5\ud569\ub2c8\ub2e4.\n",
      "\ud558\uc9c0\ub9cc 67\ubc88 \ubb38\uc81c\uc5d0\ub294 100\uce35\uc9dc\ub9ac \uc0bc\uac01\ud615 \ubc30\uc5f4\uc774 \ub098\uc635\ub2c8\ub2e4. \uadf8\ub7f0 \uacbd\uc6b0\uc5d0\ub294 \uc880 \ub354 \ud604\uba85\ud55c \ud480\uc774 \ubc29\ubc95\uc744 \ucc3e\uc544\uc57c\uaca0\uc9c0\uc694..\n",
      " \n",
      " ---"
     ]
    },
    {
     "cell_type": "code",
     "collapsed": false,
     "input": [
      "numCastleString='''75\n",
      "95 64\n",
      "17 47 82\n",
      "18 35 87 10\n",
      "20 04 82 47 65\n",
      "19 01 23 75 03 34\n",
      "88 02 77 73 07 63 67\n",
      "99 65 04 28 06 16 70 92\n",
      "41 41 26 56 83 40 80 70 33\n",
      "41 48 72 33 47 32 37 16 94 29\n",
      "53 71 44 65 25 43 91 52 97 51 14\n",
      "70 11 33 28 77 73 17 78 39 68 17 57\n",
      "91 71 52 38 17 14 91 43 58 50 27 29 48\n",
      "63 66 04 68 89 53 67 30 73 16 69 87 40 31\n",
      "04 62 98 27 23 09 70 98 73 93 38 53 60 04 23'''"
     ],
     "language": "python",
     "metadata": {},
     "outputs": [],
     "prompt_number": 1
    },
    {
     "cell_type": "code",
     "collapsed": false,
     "input": [
      "numCastleStr=numCastleString.split('\\n')"
     ],
     "language": "python",
     "metadata": {},
     "outputs": [],
     "prompt_number": 6
    },
    {
     "cell_type": "code",
     "collapsed": false,
     "input": [
      "numCastle=[]\n",
      "for x in numCastleStr:\n",
      "    numCastle.append([int(n) for n in x.split()])"
     ],
     "language": "python",
     "metadata": {},
     "outputs": [],
     "prompt_number": 9
    },
    {
     "cell_type": "code",
     "collapsed": false,
     "input": [
      "numCastle"
     ],
     "language": "python",
     "metadata": {},
     "outputs": [
      {
       "metadata": {},
       "output_type": "pyout",
       "prompt_number": 10,
       "text": [
        "[[75],\n",
        " [95, 64],\n",
        " [17, 47, 82],\n",
        " [18, 35, 87, 10],\n",
        " [20, 4, 82, 47, 65],\n",
        " [19, 1, 23, 75, 3, 34],\n",
        " [88, 2, 77, 73, 7, 63, 67],\n",
        " [99, 65, 4, 28, 6, 16, 70, 92],\n",
        " [41, 41, 26, 56, 83, 40, 80, 70, 33],\n",
        " [41, 48, 72, 33, 47, 32, 37, 16, 94, 29],\n",
        " [53, 71, 44, 65, 25, 43, 91, 52, 97, 51, 14],\n",
        " [70, 11, 33, 28, 77, 73, 17, 78, 39, 68, 17, 57],\n",
        " [91, 71, 52, 38, 17, 14, 91, 43, 58, 50, 27, 29, 48],\n",
        " [63, 66, 4, 68, 89, 53, 67, 30, 73, 16, 69, 87, 40, 31],\n",
        " [4, 62, 98, 27, 23, 9, 70, 98, 73, 93, 38, 53, 60, 4, 23]]"
       ]
      }
     ],
     "prompt_number": 10
    },
    {
     "cell_type": "code",
     "collapsed": false,
     "input": [
      "for x in "
     ],
     "language": "python",
     "metadata": {},
     "outputs": []
    }
   ],
   "metadata": {}
  }
 ]
}