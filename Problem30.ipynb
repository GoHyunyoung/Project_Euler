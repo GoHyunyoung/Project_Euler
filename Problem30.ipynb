{
 "cells": [
  {
   "cell_type": "markdown",
   "metadata": {},
   "source": [
    "각 자리의 숫자를 4제곱해서 더했을 때 자기 자신이 되는 수는 놀랍게도 단 세 개밖에 없습니다.\n",
    "\n",
    "1634 = 1<sup>4</sup> + 6<sup>4</sup> + 3<sup>4</sup> + 4<sup>4</sup><br/>\n",
    "8208 = 8<sup>4</sup> + 2<sup>4</sup> + 0<sup>4</sup> + 8<sup>4</sup><br/>\n",
    "9474 = 9<sup>4</sup> + 4<sup>4</sup> + 7<sup>4</sup> + 4<sup>4</sup><br/>\n",
    "(1 = 1<sup>4</sup>의 경우는 엄밀히 말해 합이 아니므로 제외합니다)\n",
    "\n",
    "위의 세 숫자를 모두 더하면 1634 + 8208 + 9474 = 19316 입니다.\n",
    "\n",
    "그렇다면, 각 자리 숫자를 5제곱해서 더했을 때 자기 자신이 되는 수들의 합은 얼마입니까?"
   ]
  },
  {
   "cell_type": "code",
   "execution_count": 2,
   "metadata": {
    "collapsed": true
   },
   "outputs": [],
   "source": [
    "def is4Pow(n):\n",
    "    'returns True if sum of power(each digit,4) is the same with n(input)'\n",
    "    inputNum=n\n",
    "    tmp=0\n",
    "    while n>0:\n",
    "        tmp+=(n%10)**4\n",
    "        n/=10\n",
    "    if tmp==inputNum:\n",
    "        return True\n",
    "    else:\n",
    "        return False"
   ]
  },
  {
   "cell_type": "code",
   "execution_count": 3,
   "metadata": {
    "collapsed": false,
    "scrolled": true
   },
   "outputs": [
    {
     "name": "stdout",
     "output_type": "stream",
     "text": [
      "0 1 1634 8208 9474\n"
     ]
    }
   ],
   "source": [
    "#종료조건 산정이 중요\n",
    "#4제곱의 경우 3자리수에서 나올수 있는 값의최대값 : 9^4*3(19683)\n",
    "#4제곱의 경우 4자리수에서 나올수 있는 값의최대값 : 9^4*4(26244)\n",
    "#4제곱의 경우 5자리수에서 나올수 있는 값의최대값 : 9^4*5(32805)\n",
    "#4제곱의 경우 6자리수에서 나올수 있는 값의최대값 : 9^4*6(39366)-> 5자리이므로 상한선은 5자리수의 최대값인 32805\n",
    "\n",
    "for x in range(32805):\n",
    "    if is4Pow(x):\n",
    "        print x,"
   ]
  },
  {
   "cell_type": "code",
   "execution_count": 4,
   "metadata": {
    "collapsed": true
   },
   "outputs": [],
   "source": [
    "#위와 같은 방식으로 5제곱의 경우로 만들어본다\n",
    "def is5Pow(n):\n",
    "    'returns True if sum of power(each digit,5) is the same with n(input)'\n",
    "    inputNum=n\n",
    "    tmp=0\n",
    "    while n>0:\n",
    "        tmp+=(n%10)**5\n",
    "        n/=10\n",
    "    if tmp==inputNum:\n",
    "        return True\n",
    "    else:\n",
    "        return False"
   ]
  },
  {
   "cell_type": "code",
   "execution_count": 6,
   "metadata": {
    "collapsed": false
   },
   "outputs": [
    {
     "name": "stdout",
     "output_type": "stream",
     "text": [
      "0 1 4150 4151 54748 92727 93084 194979\n"
     ]
    }
   ],
   "source": [
    "#종료조건 산정이 중요\n",
    "#5제곱의 경우 5자리수에서 나올수 있는 값의 최대값 : 9^5*5(295245) -> 6자리\n",
    "#5제곱의 경우 6자리수에서 나올수 있는 값의 최대값 : 9^5*6(354294) -> 6자리\n",
    "#5제곱의 경우 7자리수에서 나올수 있는 값의 최대값 : 9^5*7(413343) -> 6자리이므로 상한선은 6자리수의 최대값 354294로 지정\n",
    "for x in range(354294):\n",
    "    if is5Pow(x):\n",
    "        print x,"
   ]
  },
  {
   "cell_type": "code",
   "execution_count": 8,
   "metadata": {
    "collapsed": false
   },
   "outputs": [
    {
     "data": {
      "text/plain": [
       "443839"
      ]
     },
     "execution_count": 8,
     "metadata": {},
     "output_type": "execute_result"
    }
   ],
   "source": [
    "sum([4150,4151, 54748, 92727, 93084, 194979])"
   ]
  }
 ],
 "metadata": {
  "kernelspec": {
   "display_name": "Python 2",
   "language": "python",
   "name": "python2"
  },
  "language_info": {
   "codemirror_mode": {
    "name": "ipython",
    "version": 2
   },
   "file_extension": ".py",
   "mimetype": "text/x-python",
   "name": "python",
   "nbconvert_exporter": "python",
   "pygments_lexer": "ipython2",
   "version": "2.7.9"
  }
 },
 "nbformat": 4,
 "nbformat_minor": 0
}
