{
 "cells": [
  {
   "cell_type": "markdown",
   "metadata": {},
   "source": [
    "앞에서부터 읽을 때나 뒤에서부터 읽을 때나 모양이 같은 수를 대칭수(palindrome)라고 부릅니다.\n",
    "\n",
    "두 자리 수를 곱해 만들 수 있는 대칭수 중 가장 큰 수는 9009 (= 91 × 99) 입니다.\n",
    "\n",
    "세 자리 수를 곱해 만들 수 있는 가장 큰 대칭수는 얼마입니까?"
   ]
  },
  {
   "cell_type": "code",
   "execution_count": 1,
   "metadata": {
    "collapsed": false
   },
   "outputs": [],
   "source": [
    "def isEven(n):\n",
    "    if n%2==0:\n",
    "        return True\n",
    "    return False"
   ]
  },
  {
   "cell_type": "code",
   "execution_count": 19,
   "metadata": {
    "collapsed": true
   },
   "outputs": [],
   "source": [
    "def revNum(n):\n",
    "    length=len(str(n))\n",
    "    cnt=0\n",
    "    while cnt<n:"
   ]
  },
  {
   "cell_type": "code",
   "execution_count": 10,
   "metadata": {
    "collapsed": false,
    "scrolled": true
   },
   "outputs": [],
   "source": [
    "# in:number\n",
    "# out:number가 대칭수(palindrome)이면 True\n",
    "def isPld(n):\n",
    "    length=len(str(n))\n",
    "    cipherlist_front=[]\n",
    "    cipherlist_end=[]\n",
    "    #number의 길이가 짝수여야만 palindrome 가능\n",
    "    if isEven(length):\n",
    "        cnt=length/2\n",
    "        cipherlist_front=n/(10**cnt)\n",
    "        cipherlist_end=n%(10**cnt)\n",
    "        \n",
    "        cipherlist_end=revNum(cipherlist_end)\n",
    "        if cipherlist_front is cipherlist_end:\n",
    "            return True\n",
    "    else:\n",
    "        return False"
   ]
  },
  {
   "cell_type": "code",
   "execution_count": 77,
   "metadata": {
    "collapsed": false
   },
   "outputs": [],
   "source": [
    "def BgstNum():\n",
    "    Pldlist=[]\n",
    "    for x in reversed(range(100,999)):\n",
    "        for y in reversed(range(100,999)):\n",
    "            if isPld(x*y):\n",
    "              Pldlist.append(x*y)\n",
    "    print Pldlist.sort()"
   ]
  },
  {
   "cell_type": "code",
   "execution_count": 78,
   "metadata": {
    "collapsed": false
   },
   "outputs": [
    {
     "name": "stdout",
     "output_type": "stream",
     "text": [
      "None\n"
     ]
    }
   ],
   "source": [
    "BgstNum()"
   ]
  },
  {
   "cell_type": "code",
   "execution_count": null,
   "metadata": {
    "collapsed": true
   },
   "outputs": [],
   "source": []
  }
 ],
 "metadata": {
  "kernelspec": {
   "display_name": "Python 2",
   "language": "python",
   "name": "python2"
  },
  "language_info": {
   "codemirror_mode": {
    "name": "ipython",
    "version": 2
   },
   "file_extension": ".py",
   "mimetype": "text/x-python",
   "name": "python",
   "nbconvert_exporter": "python",
   "pygments_lexer": "ipython2",
   "version": "2.7.9"
  }
 },
 "nbformat": 4,
 "nbformat_minor": 0
}
