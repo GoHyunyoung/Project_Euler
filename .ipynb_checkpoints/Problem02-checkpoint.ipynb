{
 "cells": [
  {
   "cell_type": "markdown",
   "metadata": {},
   "source": [
    "<a href='http://euler.synap.co.kr/prob_detail.php?id=2'>\n",
    "<h2>Question_02</h2></a><br>\n",
    "\n",
    "---\n",
    "####피보나치 수열의 각 항은 바로 앞의 항 두 개를 더한 것이 됩니다. 1과 2로 시작하는 경우 이 수열은 아래와 같습니다.\n",
    "####1, 2, 3, 5, 8, 13, 21, 34, 55, 89, ...\n",
    "####짝수이면서 4백만 이하인 모든 항을 더하면 얼마가 됩니까?\n",
    "---"
   ]
  },
  {
   "cell_type": "code",
   "execution_count": 1,
   "metadata": {
    "collapsed": false
   },
   "outputs": [],
   "source": [
    "#in:number\n",
    "#out:짝수이면 True\n",
    "def iseven(number):\n",
    "    if number%2==0:\n",
    "        return True\n",
    "    else:\n",
    "        return False"
   ]
  },
  {
   "cell_type": "code",
   "execution_count": 2,
   "metadata": {
    "collapsed": false
   },
   "outputs": [],
   "source": [
    "fibo=[2]\n",
    "num1=1\n",
    "num2=2"
   ]
  },
  {
   "cell_type": "code",
   "execution_count": 3,
   "metadata": {
    "collapsed": false
   },
   "outputs": [],
   "source": [
    "while num1+num2<=4*(10**6):\n",
    "    sum12=num1+num2\n",
    "    if iseven(sum12):\n",
    "        fibo.append(sum12)\n",
    "    num1=num2\n",
    "    num2=sum12"
   ]
  },
  {
   "cell_type": "code",
   "execution_count": 4,
   "metadata": {
    "collapsed": false
   },
   "outputs": [
    {
     "name": "stdout",
     "output_type": "stream",
     "text": [
      "[2, 8, 34, 144, 610, 2584, 10946, 46368, 196418, 832040, 3524578]\n",
      "4613732\n"
     ]
    }
   ],
   "source": [
    "print fibo\n",
    "print sum(fibo)"
   ]
  }
 ],
 "metadata": {
  "kernelspec": {
   "display_name": "Python 2",
   "language": "python",
   "name": "python2"
  },
  "language_info": {
   "codemirror_mode": {
    "name": "ipython",
    "version": 2
   },
   "file_extension": ".py",
   "mimetype": "text/x-python",
   "name": "python",
   "nbconvert_exporter": "python",
   "pygments_lexer": "ipython2",
   "version": "2.7.9"
  }
 },
 "nbformat": 4,
 "nbformat_minor": 0
}
