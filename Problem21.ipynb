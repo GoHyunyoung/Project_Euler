{
 "metadata": {
  "name": "",
  "signature": "sha256:f2f3454430c84326c753c2c1ab1b13dac561b37872246d18aaf8c68151af4a6a"
 },
 "nbformat": 3,
 "nbformat_minor": 0,
 "worksheets": [
  {
   "cells": [
    {
     "cell_type": "markdown",
     "metadata": {},
     "source": [
      "<a href='http://euler.synap.co.kr/prob_detail.php?id=21'>\n",
      "<h2>Question_21</h2></a><br>\n",
      "\n",
      "---\n",
      "n\uc758 \uc57d\uc218\ub4e4 \uc911\uc5d0\uc11c \uc790\uc2e0\uc744 \uc81c\uc678\ud55c \uac83\uc758 \ud569\uc744 d(n)\uc73c\ub85c \uc815\uc758\ud588\uc744 \ub54c,\n",
      "\n",
      "\uc11c\ub85c \ub2e4\ub978 \ub450 \uc815\uc218 a, b\uc5d0 \ub300\ud558\uc5ec d(a) = b \uc774\uace0 d(b) = a \uc774\uba74 \n",
      "\n",
      "a, b\ub294 \uce5c\ud654\uc30d\uc774\ub77c \ud558\uace0 a\uc640 b\ub97c \uac01\uac01 \uce5c\ud654\uc218(\uc6b0\uc560\uc218)\ub77c\uace0 \ud569\ub2c8\ub2e4.\n",
      "\n",
      "\uc608\ub97c \ub4e4\uc5b4 220\uc758 \uc57d\uc218\ub294 \uc790\uc2e0\uc744 \uc81c\uc678\ud558\uba74 1, 2, 4, 5, 10, 11, 20, 22, 44, 55, 110 \uc774\ubbc0\ub85c \uadf8 \ud569\uc740 d(220) = 284 \uc785\ub2c8\ub2e4.\n",
      "\n",
      "\ub610 284\uc758 \uc57d\uc218\ub294 \uc790\uc2e0\uc744 \uc81c\uc678\ud558\uba74 1, 2, 4, 71, 142 \uc774\ubbc0\ub85c d(284) = 220 \uc785\ub2c8\ub2e4.\n",
      "\n",
      "\ub530\ub77c\uc11c 220\uacfc 284\ub294 \uce5c\ud654\uc30d\uc774 \ub429\ub2c8\ub2e4.\n",
      "\n",
      "10000 \uc774\ud558\uc758 \uce5c\ud654\uc218\ub4e4\uc744 \ubaa8\ub450 \ucc3e\uc544\uc11c \uadf8 \ud569\uc744 \uad6c\ud558\uc138\uc694.\n",
      "\n",
      "---"
     ]
    },
    {
     "cell_type": "code",
     "collapsed": false,
     "input": [
      "# n(\uc790\uc2e0)\uc744 \uc81c\uc678\ud55c \uc57d\uc218\uc758 \ud569\uc744 \ubc18\ud658\n",
      "def pSum(n):\n",
      "    result=0\n",
      "    for x in range(1,n):\n",
      "        if n%x==0:\n",
      "            result+=x\n",
      "    return result"
     ],
     "language": "python",
     "metadata": {},
     "outputs": [],
     "prompt_number": 1
    },
    {
     "cell_type": "code",
     "collapsed": false,
     "input": [
      "# \ub450\uc218\uac00 \uce5c\ud654\uc218(\uc6b0\uc560\uc218)\uc774\uba74 True\n",
      "def Amicable_nums(n):\n",
      "    if n==pSum(pSum(n)) and n!=pSum(n):\n",
      "        return True\n",
      "    return False"
     ],
     "language": "python",
     "metadata": {},
     "outputs": [],
     "prompt_number": 2
    },
    {
     "cell_type": "code",
     "collapsed": false,
     "input": [
      "# 10000\uc774\ud558\uc758 \uce5c\ud654\uc218\ub4e4\uc744 \ubaa8\ub450 \ucc3e\uc544\uc11c l\uc5d0 \uc800\uc7a5\n",
      "l=[]\n",
      "for x in range(10001):\n",
      "    if Amicable_nums(x):\n",
      "        l.append(x)"
     ],
     "language": "python",
     "metadata": {},
     "outputs": [],
     "prompt_number": 3
    },
    {
     "cell_type": "code",
     "collapsed": false,
     "input": [
      "l"
     ],
     "language": "python",
     "metadata": {},
     "outputs": [
      {
       "metadata": {},
       "output_type": "pyout",
       "prompt_number": 6,
       "text": [
        "[220, 284, 1184, 1210, 2620, 2924, 5020, 5564, 6232, 6368]"
       ]
      }
     ],
     "prompt_number": 6
    },
    {
     "cell_type": "code",
     "collapsed": false,
     "input": [
      "sum(l)"
     ],
     "language": "python",
     "metadata": {},
     "outputs": [
      {
       "metadata": {},
       "output_type": "pyout",
       "prompt_number": 7,
       "text": [
        "31626"
       ]
      }
     ],
     "prompt_number": 7
    }
   ],
   "metadata": {}
  }
 ]
}