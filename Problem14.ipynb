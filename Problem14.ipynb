{
 "metadata": {
  "name": "",
  "signature": "sha256:3e57c7c904460645b7bc7361084ab525f1b35d03faa21a3e26ce10910bef3498"
 },
 "nbformat": 3,
 "nbformat_minor": 0,
 "worksheets": [
  {
   "cells": [
    {
     "cell_type": "markdown",
     "metadata": {},
     "source": [
      "<a href='http://euler.synap.co.kr/prob_detail.php?id=14'>\n",
      "<h2>Question_14</h2></a><br/>\n",
      "\n",
      "---\n",
      "\uc591\uc758 \uc815\uc218 n\uc5d0 \ub300\ud558\uc5ec, \ub2e4\uc74c\uacfc \uac19\uc740 \uacc4\uc0b0 \uacfc\uc815\uc744 \ubc18\ubcf5\ud558\uae30\ub85c \ud569\ub2c8\ub2e4.\n",
      "\n",
      "n \u2192 n / 2 (n\uc774 \uc9dd\uc218\uc77c \ub54c)\n",
      "\n",
      "n \u2192 3 n + 1 (n\uc774 \ud640\uc218\uc77c \ub54c)\n",
      "\n",
      "13\uc5d0 \ub300\ud558\uc5ec \uc704\uc758 \uaddc\uce59\uc744 \uc801\uc6a9\ud574\ubcf4\uba74 \uc544\ub798\ucc98\ub7fc 10\ubc88\uc758 \uacfc\uc815\uc744 \ud1b5\ud574 1\uc774 \ub429\ub2c8\ub2e4.\n",
      "\n",
      "13 \u2192 40 \u2192 20 \u2192 10 \u2192 5 \u2192 16 \u2192 8 \u2192 4 \u2192 2 \u2192 1\n",
      "\n",
      "\uc544\uc9c1 \uc99d\uba85\uc740 \ub418\uc9c0 \uc54a\uc558\uc9c0\ub9cc, \uc774\ub7f0 \uacfc\uc815\uc744 \uac70\uce58\uba74 \uc5b4\ub5a4 \uc218\ub85c \uc2dc\uc791\ud574\ub3c4 \ub9c8\uc9c0\ub9c9\uc5d0\ub294 1\ub85c \ub05d\ub098\ub9ac\ub77c \uc0dd\uac01\ub429\ub2c8\ub2e4. \n",
      "\n",
      "(\uc5ed\uc8fc: \uc774\uac83\uc740 \ucf5c\ub77c\uce20 \ucd94\uce21 Collatz Conjecture\uc774\ub77c\uace0 \ud558\uba70, \uc774\ub7f0 \uc218\ub4e4\uc744 \uc6b0\ubc15\uc218 hailstone sequence\ub77c \ubd80\ub974\uae30\ub3c4 \ud569\ub2c8\ub2e4)\n",
      "\n",
      "\uadf8\ub7ec\uba74, \ubc31\ub9cc(1,000,000) \uc774\ud558\uc758 \uc218\ub85c \uc2dc\uc791\ud588\uc744 \ub54c 1\uae4c\uc9c0 \ub3c4\ub2ec\ud558\ub294\ub370 \uac00\uc7a5 \uae34 \uacfc\uc815\uc744 \uac70\uce58\ub294 \uc22b\uc790\ub294 \uc5bc\ub9c8\uc785\ub2c8\uae4c?\n",
      "\n",
      "\ucc38\uace0: \uacc4\uc0b0 \uacfc\uc815 \ub3c4\uc911\uc5d0\ub294 \uc22b\uc790\uac00 \ubc31\ub9cc\uc744 \ub118\uc5b4\uac00\ub3c4 \uad1c\ucc2e\uc2b5\ub2c8\ub2e4.\n",
      "\n",
      "---"
     ]
    },
    {
     "cell_type": "code",
     "collapsed": false,
     "input": [
      "# n\uc774 \ucc98\ub9ac\ub418\ub294 \uae38\uc774\ub97c \ubc18\ud658\ud558\ub294 \ud568\uc218\n",
      "def lenOfproc(n):\n",
      "    cnt=1\n",
      "    while n>1:\n",
      "        if n%2==0:\n",
      "            n/=2\n",
      "        else:\n",
      "            n=3*n+1\n",
      "        cnt+=1\n",
      "    return cnt"
     ],
     "language": "python",
     "metadata": {},
     "outputs": [],
     "prompt_number": 1
    },
    {
     "cell_type": "code",
     "collapsed": false,
     "input": [
      "procNum=0\n",
      "result=0\n",
      "for x in range(1000000):\n",
      "    if procNum<lenOfproc(x):\n",
      "        procNum=lenOfproc(x)\n",
      "        result=x\n",
      "print result"
     ],
     "language": "python",
     "metadata": {},
     "outputs": [
      {
       "output_type": "stream",
       "stream": "stdout",
       "text": [
        "837799\n"
       ]
      }
     ],
     "prompt_number": 2
    }
   ],
   "metadata": {}
  }
 ]
}