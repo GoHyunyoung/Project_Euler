{
 "metadata": {
  "kernelspec": {
   "display_name": "Python 2",
   "language": "python",
   "name": "python2"
  },
  "language_info": {
   "codemirror_mode": {
    "name": "ipython",
    "version": 2
   },
   "file_extension": ".py",
   "mimetype": "text/x-python",
   "name": "python",
   "nbconvert_exporter": "python",
   "pygments_lexer": "ipython2",
   "version": "2.7.9"
  },
  "name": "",
  "signature": "sha256:6780cd58e968c7ae598d66c33fb9312c833710be31743b469ffe6cbed05da483"
 },
 "nbformat": 3,
 "nbformat_minor": 0,
 "worksheets": [
  {
   "cells": [
    {
     "cell_type": "markdown",
     "metadata": {},
     "source": [
      "<a href='http://euler.synap.co.kr/prob_detail.php?id=20'>\n",
      "<h2>Question_20</h2></a><br>\n",
      "\n",
      "---\n",
      "n! \uc774\ub77c\ub294 \ud45c\uae30\ubc95\uc740 n \u00d7 (n \u2212 1) \u00d7 ... \u00d7 3 \u00d7 2 \u00d7 1\uc744 \ub73b\ud569\ub2c8\ub2e4.\n",
      "\n",
      "\uc608\ub97c \ub4e4\uc790\uba74 10! = 10 \u00d7 9 \u00d7 ... \u00d7 3 \u00d7 2 \u00d7 1 = 3628800 \uc774 \ub418\ub294\ub370,\n",
      "\uc5ec\uae30\uc11c 10!\uc758 \uac01 \uc790\ub9ac\uc218\ub97c \ub354\ud574 \ubcf4\uba74 3 + 6 + 2 + 8 + 8 + 0 + 0 = 27 \uc785\ub2c8\ub2e4.\n",
      "\n",
      "100! \uc758 \uc790\ub9ac\uc218\ub97c \ubaa8\ub450 \ub354\ud558\uba74 \uc5bc\ub9c8\uc785\ub2c8\uae4c?\n",
      "\n",
      "---"
     ]
    },
    {
     "cell_type": "code",
     "collapsed": true,
     "input": [
      "def fct(n):\n",
      "    if n<=1:\n",
      "        return 1\n",
      "    return n*fct(n-1)"
     ],
     "language": "python",
     "metadata": {},
     "outputs": [],
     "prompt_number": 8
    },
    {
     "cell_type": "code",
     "collapsed": false,
     "input": [
      "fct_100=fct(100)\n",
      "result=0\n",
      "for x in range(len(str(fct_100))):\n",
      "    result+=int(str(fct_100)[x])\n",
      "\n",
      "print result"
     ],
     "language": "python",
     "metadata": {},
     "outputs": [
      {
       "output_type": "stream",
       "stream": "stdout",
       "text": [
        "648\n"
       ]
      }
     ],
     "prompt_number": 22
    }
   ],
   "metadata": {}
  }
 ]
}