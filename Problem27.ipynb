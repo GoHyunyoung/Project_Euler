{
 "cells": [
  {
   "cell_type": "code",
   "execution_count": 2,
   "metadata": {
    "collapsed": true
   },
   "outputs": [],
   "source": [
    "import math"
   ]
  },
  {
   "cell_type": "code",
   "execution_count": 8,
   "metadata": {
    "collapsed": false
   },
   "outputs": [],
   "source": [
    "def isPrime(n):\n",
    "    'returns True if n is Prime_number'\n",
    "    if n<=1:\n",
    "        return False\n",
    "    elif n==2:\n",
    "        return True\n",
    "    else:\n",
    "        for x in range(2,int(math.ceil(math.sqrt(n))+1)):\n",
    "            if n%x==0:\n",
    "                return False\n",
    "        return True"
   ]
  },
  {
   "cell_type": "code",
   "execution_count": 9,
   "metadata": {
    "collapsed": true
   },
   "outputs": [],
   "source": [
    "def equation(n,a,b):\n",
    "    'returns result of n^2+an+b'\n",
    "    return n**2+a*n+b"
   ]
  },
  {
   "cell_type": "code",
   "execution_count": 18,
   "metadata": {
    "collapsed": false,
    "scrolled": true
   },
   "outputs": [
    {
     "name": "stdout",
     "output_type": "stream",
     "text": [
      "n^2 -61n 971\n",
      "a * b : -59231\n"
     ]
    }
   ],
   "source": [
    "MAX_nab=tuple([0,0,0])\n",
    "for a in range(-1000,1000+1):\n",
    "    for b in range(-1000,1000+1):\n",
    "        n=0\n",
    "        cnt=0\n",
    "        while isPrime(equation(n,a,b)):\n",
    "            n+=1\n",
    "            cnt+=1\n",
    "        if cnt>MAX_nab[0]:\n",
    "            MAX_nab=(cnt,a,b)\n",
    "            \n",
    "print 'n^2 %dn %d'%(MAX_nab[1],MAX_nab[2])\n",
    "print 'a * b :',MAX_nab[1]*MAX_nab[2]"
   ]
  }
 ],
 "metadata": {
  "kernelspec": {
   "display_name": "Python 2",
   "language": "python",
   "name": "python2"
  },
  "language_info": {
   "codemirror_mode": {
    "name": "ipython",
    "version": 2
   },
   "file_extension": ".py",
   "mimetype": "text/x-python",
   "name": "python",
   "nbconvert_exporter": "python",
   "pygments_lexer": "ipython2",
   "version": "2.7.9"
  }
 },
 "nbformat": 4,
 "nbformat_minor": 0
}
