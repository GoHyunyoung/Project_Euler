{
 "metadata": {
  "kernelspec": {
   "display_name": "Python 2",
   "language": "python",
   "name": "python2"
  },
  "language_info": {
   "codemirror_mode": {
    "name": "ipython",
    "version": 2
   },
   "file_extension": ".py",
   "mimetype": "text/x-python",
   "name": "python",
   "nbconvert_exporter": "python",
   "pygments_lexer": "ipython2",
   "version": "2.7.9"
  },
  "name": "",
  "signature": "sha256:6611eb6c3e163c5ab63998fa8fdff012b4de3c51552c9265da739f74e3a457b0"
 },
 "nbformat": 3,
 "nbformat_minor": 0,
 "worksheets": [
  {
   "cells": [
    {
     "cell_type": "markdown",
     "metadata": {},
     "source": [
      "<a href='http://euler.synap.co.kr/prob_detail.php?id=12'>\n",
      "<h2>Question_12</h2></a><br/>\n",
      "\n",
      "---\n",
      "####1\ubd80\ud130 n\uae4c\uc9c0\uc758 \uc790\uc5f0\uc218\ub97c \ucc28\ub840\ub85c \ub354\ud558\uc5ec \uad6c\ud574\uc9c4 \uac12\uc744 \uc0bc\uac01\uc218\ub77c\uace0 \ud569\ub2c8\ub2e4.\n",
      "####\uc608\ub97c \ub4e4\uc5b4 7\ubc88\uc9f8 \uc0bc\uac01\uc218\ub294 1 + 2 + 3 + 4 + 5 + 6 + 7 = 28\uc774 \ub429\ub2c8\ub2e4.\n",
      "####\uc774\ub7f0 \uc2dd\uc73c\ub85c \uc0bc\uac01\uc218\ub97c \uad6c\ud574 \ub098\uac00\uba74 \ub2e4\uc74c\uacfc \uac19\uc2b5\ub2c8\ub2e4.\n",
      "####1, 3, 6, 10, 15, 21, 28, 36, 45, 55, ...\n",
      "####\uc774 \uc0bc\uac01\uc218\ub4e4\uc758 \uc57d\uc218\ub97c \uad6c\ud574\ubd05\uc2dc\ub2e4.\n",
      "\n",
      " 1: 1<br />\n",
      " 3: 1, 3<br />\n",
      " 6: 1, 2, 3, 6<br />\n",
      "10: 1, 2, 5, 10<br />\n",
      "15: 1, 3, 5, 15<br />\n",
      "21: 1, 3, 7, 21<br />\n",
      "28: 1, 2, 4, 7, 14, 28<br />\n",
      "\n",
      "\uc704\uc5d0\uc11c \ubcf4\ub4ef\uc774, 5\uac1c \uc774\uc0c1\uc758 \uc57d\uc218\ub97c \uac16\ub294 \uccab\ubc88\uc9f8 \uc0bc\uac01\uc218\ub294 28\uc785\ub2c8\ub2e4.\n",
      "\n",
      "\uadf8\ub7ec\uba74 500\uac1c \uc774\uc0c1\uc758 \uc57d\uc218\ub97c \uac16\ub294 \uac00\uc7a5 \uc791\uc740 \uc0bc\uac01\uc218\ub294 \uc5bc\ub9c8\uc785\ub2c8\uae4c?\n",
      "\n",
      "---"
     ]
    },
    {
     "cell_type": "code",
     "collapsed": false,
     "input": [
      "#1. \uc0bc\uac01\uc218\ub97c \uad6c\ud558\ub294 \uc77c\ubc18\ud56d an=(n^2+n)/2\n",
      "#in:num\n",
      "#out:n\ubc88\uc9f8 \uc0bc\uac01\uc218\n",
      "def tglNum(n):\n",
      "    return (pow(n,2)+n)/2"
     ],
     "language": "python",
     "metadata": {},
     "outputs": [],
     "prompt_number": 4
    },
    {
     "cell_type": "code",
     "collapsed": false,
     "input": [
      "#2. \uc5b4\ub5a0\ud55c \uc218\uc758 \uc18c\uc778\uc218\ubd84\ud574\ud615\ud0dc\ub97c \uadf8\ub824\ubcf4\uc790\n",
      "#in:num\n",
      "#out:num\uc758 \uc778\uc218\ubd84\ud574\ub97c \ud480\uc5b4\uc4f4 \ub9ac\uc2a4\ud2b8(2^2*5^2 -> [2 2 5 5])\n",
      "def divisorNum(n):\n",
      "    numList=[]\n",
      "    div=2\n",
      "    while n>div:\n",
      "        if n%div==0:\n",
      "            numList.append(div)\n",
      "            n/=div\n",
      "        else:\n",
      "            div+=1\n",
      "        if n==div:\n",
      "            numList.append(div)    \n",
      "    return numList"
     ],
     "language": "python",
     "metadata": {},
     "outputs": [],
     "prompt_number": 5
    },
    {
     "cell_type": "code",
     "collapsed": false,
     "input": [
      "#3. \uc704\uc5d0\uc11c \ub098\uc628 \uc18c\uc778\uc218\ubd84\ud574 \ud615\ud0dc\uc758 \ub9ac\uc2a4\ud2b8\uc5d0\uc11c \uc57d\uc218\uc758 \uac1c\uc218\ub97c \uacc4\uc0b0\n",
      "def primeNum(n):\n",
      "    #d\ub294 dict\ud615\uc73c\ub85c key:#2\uc5d0\uc11c \ub098\uc628 \uac12\ub4e4(\uc911\ubcf5\uc81c\uac70)\n",
      "    l=divisorNum(n)\n",
      "    d=dict.fromkeys(divisorNum(n))\n",
      "    \n",
      "    #\uac01 key\uc5d0 \ub300\ud574 count\ub97c \ud558\uc5ec value\ub85c \uac00\uc9d0\n",
      "    for x in d.keys():\n",
      "        d[x]=l.count(x)\n",
      "        \n",
      "    #keys\uc640 values \ucd9c\ub825\n",
      "   # print d.keys()\n",
      "   # print d.values()\n",
      "    mul=1\n",
      "    for x in d.keys():\n",
      "        mul*=d[x]+1\n",
      "    return mul"
     ],
     "language": "python",
     "metadata": {},
     "outputs": [],
     "prompt_number": 6
    },
    {
     "cell_type": "code",
     "collapsed": false,
     "input": [
      "n=0\n",
      "while primeNum(tglNum(n))<500:\n",
      "    n+=1\n",
      "    \n",
      "print tglNum(n)"
     ],
     "language": "python",
     "metadata": {},
     "outputs": [
      {
       "output_type": "stream",
       "stream": "stdout",
       "text": [
        "76576500\n"
       ]
      }
     ],
     "prompt_number": 9
    }
   ],
   "metadata": {}
  }
 ]
}