{
 "cells": [
  {
   "cell_type": "markdown",
   "metadata": {},
   "source": [
    "<a href='http://euler.synap.co.kr/prob_detail.php?id=12'>\n",
    "<h2>Question_12</h2></a><br>\n",
    "\n",
    "---\n",
    "####1부터 n까지의 자연수를 차례로 더하여 구해진 값을 삼각수라고 합니다.\n",
    "####예를 들어 7번째 삼각수는 1 + 2 + 3 + 4 + 5 + 6 + 7 = 28이 됩니다.\n",
    "####이런 식으로 삼각수를 구해 나가면 다음과 같습니다.\n",
    "####1, 3, 6, 10, 15, 21, 28, 36, 45, 55, ...\n",
    "####이 삼각수들의 약수를 구해봅시다.\n",
    "\n",
    " 1: 1<br />\n",
    " 3: 1, 3<br />\n",
    " 6: 1, 2, 3, 6<br />\n",
    "10: 1, 2, 5, 10<br />\n",
    "15: 1, 3, 5, 15<br />\n",
    "21: 1, 3, 7, 21<br />\n",
    "28: 1, 2, 4, 7, 14, 28<br />\n",
    "\n",
    "위에서 보듯이, 5개 이상의 약수를 갖는 첫번째 삼각수는 28입니다.\n",
    "\n",
    "그러면 500개 이상의 약수를 갖는 가장 작은 삼각수는 얼마입니까?\n",
    "\n",
    "---"
   ]
  },
  {
   "cell_type": "code",
   "execution_count": 19,
   "metadata": {
    "collapsed": true
   },
   "outputs": [],
   "source": [
    "#in:몇번째 삼각수를 출력\n",
    "#out:1~n까지의 합\n",
    "def nTgl(n):\n",
    "    return sum([x for x in range(n+1)])"
   ]
  },
  {
   "cell_type": "code",
   "execution_count": 3,
   "metadata": {
    "collapsed": false
   },
   "outputs": [
    {
     "data": {
      "text/plain": [
       "28"
      ]
     },
     "execution_count": 3,
     "metadata": {},
     "output_type": "execute_result"
    }
   ],
   "source": [
    "#7번째 삼각수는 28\n",
    "nTgl(7)"
   ]
  },
  {
   "cell_type": "code",
   "execution_count": 4,
   "metadata": {
    "collapsed": true
   },
   "outputs": [],
   "source": [
    "#in:number\n",
    "#out:number의 약수개수\n",
    "def divCnt(n):\n",
    "    cnt=0\n",
    "    for x in range(1,n+1):\n",
    "        if n%x==0:\n",
    "            cnt+=1\n",
    "            \n",
    "    return cnt"
   ]
  },
  {
   "cell_type": "code",
   "execution_count": 5,
   "metadata": {
    "collapsed": false
   },
   "outputs": [
    {
     "name": "stdout",
     "output_type": "stream",
     "text": [
      "28\n"
     ]
    }
   ],
   "source": [
    "#5개 이상의 약수를 갖는 첫번째 삼각수는 28\n",
    "n=0\n",
    "while True:\n",
    "    if divCnt(nTgl(n)) >= 5:\n",
    "        break\n",
    "    n+=1\n",
    "print nTgl(n)"
   ]
  },
  {
   "cell_type": "code",
   "execution_count": null,
   "metadata": {
    "collapsed": true
   },
   "outputs": [],
   "source": [
    "#500개 이상의 약수를 갖는 가장 작은 삼각수는 ??\n",
    "n=0\n",
    "while True:\n",
    "    if divCnt(nTgl(n)) >= 500:\n",
    "        break\n",
    "    n+=1\n",
    "print nTgl(n)"
   ]
  },
  {
   "cell_type": "markdown",
   "metadata": {},
   "source": [
    "This takes too much time(kernel just busy)<br />\n",
    "\n",
    "####Different Algorith(by factorization)\n",
    "\n",
    "----"
   ]
  },
  {
   "cell_type": "code",
   "execution_count": 3,
   "metadata": {
    "collapsed": true
   },
   "outputs": [],
   "source": [
    "import math"
   ]
  },
  {
   "cell_type": "code",
   "execution_count": 4,
   "metadata": {
    "collapsed": false
   },
   "outputs": [],
   "source": [
    "#out:소수면 True\n",
    "def isPrn(n):\n",
    "    if n==0 or n==1:\n",
    "        return False\n",
    "    elif n==2:\n",
    "        return True\n",
    "    else:\n",
    "        for x in range(2,int(math.sqrt(n))+1):\n",
    "            if n%x==0:\n",
    "                return False\n",
    "        return True"
   ]
  },
  {
   "cell_type": "code",
   "execution_count": 5,
   "metadata": {
    "collapsed": false
   },
   "outputs": [],
   "source": [
    "def divCnt(n):\n",
    "    expList=[] #n의 인수분해 결과의 지수 개수\n",
    "\n",
    "    #1. 지수들이 있는 리스트 만들어서\n",
    "    for x in range(n+1):\n",
    "        if isPrn(x):\n",
    "            cnt=0\n",
    "            exp=1\n",
    "            while n%(x**exp)==0 and n/(x**exp)>0:\n",
    "                exp+=1\n",
    "                cnt+=1\n",
    "\n",
    "            if cnt>=1:\n",
    "                expList.append(cnt)\n",
    "\n",
    "    #2. expList의 각 원소들의 1을 더해서 곱하면 약수의 개수\n",
    "    result=1\n",
    "    for x in range(len(expList)):\n",
    "        expList[x]+=1\n",
    "        result*=expList[x]    \n",
    "        \n",
    "    return result"
   ]
  },
  {
   "cell_type": "code",
   "execution_count": 8,
   "metadata": {
    "collapsed": false,
    "scrolled": true
   },
   "outputs": [
    {
     "data": {
      "text/plain": [
       "64"
      ]
     },
     "execution_count": 8,
     "metadata": {},
     "output_type": "execute_result"
    }
   ],
   "source": [
    "divCnt(10000000)\n",
    "#30 = 2^1 * 3^1 * 5^1"
   ]
  },
  {
   "cell_type": "code",
   "execution_count": null,
   "metadata": {
    "collapsed": false
   },
   "outputs": [],
   "source": [
    "#500개 이상의 약수를 갖는 가장 작은 삼각수는 ??\n",
    "n=0\n",
    "while True:\n",
    "    if divCnt(nTgl(n)) >= 500:\n",
    "        break\n",
    "    n+=1\n",
    "print nTgl(n)"
   ]
  }
 ],
 "metadata": {
  "kernelspec": {
   "display_name": "Python 2",
   "language": "python",
   "name": "python2"
  },
  "language_info": {
   "codemirror_mode": {
    "name": "ipython",
    "version": 2
   },
   "file_extension": ".py",
   "mimetype": "text/x-python",
   "name": "python",
   "nbconvert_exporter": "python",
   "pygments_lexer": "ipython2",
   "version": "2.7.9"
  }
 },
 "nbformat": 4,
 "nbformat_minor": 0
}
