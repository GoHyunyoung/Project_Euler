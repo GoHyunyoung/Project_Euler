{
 "cells": [
  {
   "cell_type": "markdown",
   "metadata": {},
   "source": [
    "<a href='http://euler.synap.co.kr/prob_detail.php?id=9'>\n",
    "<h2>Question_09</h2></a><br>\n",
    "\n",
    "---\n",
    "####세 자연수 a, b, c 가 피타고라스 정리 a<sup>2</sup> + b<sup>2</sup> = c<sup>2</sup> 를 만족하면 피타고라스 수라고 부릅니다 (여기서 a < b < c ).\n",
    "####예를 들면 3<sup>2</sup> + 4<sup>2</sup> = 9 + 16 = 25 = 5<sup>2</sup>이므로 3, 4, 5는 피타고라스 수입니다.\n",
    "####a + b + c = 1000 인 피타고라스 수 a, b, c는 한 가지 뿐입니다. 이 때, a × b × c 는 얼마입니까?\n",
    "---"
   ]
  },
  {
   "cell_type": "code",
   "execution_count": 6,
   "metadata": {
    "collapsed": false
   },
   "outputs": [
    {
     "name": "stdout",
     "output_type": "stream",
     "text": [
      "200 375 425\n",
      "31875000\n"
     ]
    }
   ],
   "source": [
    "a=1;b=1;c=1\n",
    "flag=False\n",
    "while sum([a,b,c])<=1000 and not(flag):\n",
    "    while sum([a,b,c])<=1000 and not(flag):    \n",
    "        while sum([a,b,c])<=1000 and not(flag):\n",
    "            if a**2+b**2==c**2 and a+b+c==1000:\n",
    "                flag=True\n",
    "                break\n",
    "            c+=1\n",
    "                \n",
    "        if flag: break\n",
    "        b+=1\n",
    "        c=b\n",
    "    if flag: break\n",
    "    a+=1\n",
    "    c=b=a\n",
    "    \n",
    "print a,b,c\n",
    "print a*b*c"
   ]
  },
  {
   "cell_type": "code",
   "execution_count": null,
   "metadata": {
    "collapsed": true
   },
   "outputs": [],
   "source": []
  }
 ],
 "metadata": {
  "kernelspec": {
   "display_name": "Python 2",
   "language": "python",
   "name": "python2"
  },
  "language_info": {
   "codemirror_mode": {
    "name": "ipython",
    "version": 2
   },
   "file_extension": ".py",
   "mimetype": "text/x-python",
   "name": "python",
   "nbconvert_exporter": "python",
   "pygments_lexer": "ipython2",
   "version": "2.7.9"
  }
 },
 "nbformat": 4,
 "nbformat_minor": 0
}
