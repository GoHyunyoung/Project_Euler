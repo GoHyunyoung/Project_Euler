{
 "cells": [
  {
   "cell_type": "markdown",
   "metadata": {},
   "source": [
    "<a href='http://euler.synap.co.kr/prob_detail.php?id=18'>\n",
    "<h2>Question_18</h2></a><br>\n",
    "\n",
    "---\n",
    "다음과 같이 삼각형 모양으로 숫자를 배열했습니다.\n",
    "<center>\n",
    "<font color='red'>3<br/></font>\n",
    "<font color='red'>7</font> 4<br/>\n",
    "2 <font color='red'>4</font> 6<br/>\n",
    "8 5 <font color='red'>9</font> 3<br/>\n",
    "</center>\n",
    "\n",
    "삼각형의 꼭대기부터 아래쪽으로 인접한 숫자를 찾아 내려가면서 합을 구하면, 위의 그림처럼 3 + 7 + 4 + 9 = 23 이 가장 큰 합을 갖는 경로가 됩니다.\n",
    "\n",
    "다음 삼각형에서 합이 최대가 되는 경로를 찾아서 그 합을 구하세요.\n",
    "<center>\n",
    "75<br/>\n",
    "95 64<br/>\n",
    "17 47 82<br/>\n",
    "18 35 87 10<br/>\n",
    "20 04 82 47 65<br/>\n",
    "19 01 23 75 03 34<br/>\n",
    "88 02 77 73 07 63 67<br/>\n",
    "99 65 04 28 06 16 70 92<br/>\n",
    "41 41 26 56 83 40 80 70 33<br/>\n",
    "41 48 72 33 47 32 37 16 94 29<br/>\n",
    "53 71 44 65 25 43 91 52 97 51 14<br/>\n",
    "70 11 33 28 77 73 17 78 39 68 17 57<br/>\n",
    "91 71 52 38 17 14 91 43 58 50 27 29 48<br/>\n",
    "63 66 04 68 89 53 67 30 73 16 69 87 40 31<br/>\n",
    "04 62 98 27 23 09 70 98 73 93 38 53 60 04 23<br/>\n",
    "</center>\n",
    "\n",
    "참고: 여기서는 경로가 16384개밖에 안되기 때문에, 모든 경로의 합을 일일이 계산해서 답을 구하는 것이 가능합니다.\n",
    "하지만 67번 문제에는 100층짜리 삼각형 배열이 나옵니다. 그런 경우에는 좀 더 현명한 풀이 방법을 찾아야겠지요..\n",
    " \n",
    " ---"
   ]
  },
  {
   "cell_type": "code",
   "execution_count": 1,
   "metadata": {
    "collapsed": false
   },
   "outputs": [],
   "source": [
    "string=\"\"\"75\n",
    "95 64\n",
    "17 47 82\n",
    "18 35 87 10\n",
    "20 04 82 47 65\n",
    "19 01 23 75 03 34\n",
    "88 02 77 73 07 63 67\n",
    "99 65 04 28 06 16 70 92\n",
    "41 41 26 56 83 40 80 70 33\n",
    "41 48 72 33 47 32 37 16 94 29\n",
    "53 71 44 65 25 43 91 52 97 51 14\n",
    "70 11 33 28 77 73 17 78 39 68 17 57\n",
    "91 71 52 38 17 14 91 43 58 50 27 29 48\n",
    "63 66 04 68 89 53 67 30 73 16 69 87 40 31\n",
    "04 62 98 27 23 09 70 98 73 93 38 53 60 04 23\"\"\""
   ]
  },
  {
   "cell_type": "code",
   "execution_count": 2,
   "metadata": {
    "collapsed": false
   },
   "outputs": [],
   "source": [
    "tmp_arr=[x.split() for x in string.splitlines()]"
   ]
  },
  {
   "cell_type": "code",
   "execution_count": 3,
   "metadata": {
    "collapsed": false
   },
   "outputs": [],
   "source": [
    "arr=list()\n",
    "for x in tmp_arr:\n",
    "    tmplist=list()\n",
    "    for y in x:\n",
    "        tmplist.append(int(y))\n",
    "    arr.append(tmplist)"
   ]
  },
  {
   "cell_type": "code",
   "execution_count": 4,
   "metadata": {
    "collapsed": false
   },
   "outputs": [
    {
     "data": {
      "text/plain": [
       "[[75],\n",
       " [95, 64],\n",
       " [17, 47, 82],\n",
       " [18, 35, 87, 10],\n",
       " [20, 4, 82, 47, 65],\n",
       " [19, 1, 23, 75, 3, 34],\n",
       " [88, 2, 77, 73, 7, 63, 67],\n",
       " [99, 65, 4, 28, 6, 16, 70, 92],\n",
       " [41, 41, 26, 56, 83, 40, 80, 70, 33],\n",
       " [41, 48, 72, 33, 47, 32, 37, 16, 94, 29],\n",
       " [53, 71, 44, 65, 25, 43, 91, 52, 97, 51, 14],\n",
       " [70, 11, 33, 28, 77, 73, 17, 78, 39, 68, 17, 57],\n",
       " [91, 71, 52, 38, 17, 14, 91, 43, 58, 50, 27, 29, 48],\n",
       " [63, 66, 4, 68, 89, 53, 67, 30, 73, 16, 69, 87, 40, 31],\n",
       " [4, 62, 98, 27, 23, 9, 70, 98, 73, 93, 38, 53, 60, 4, 23]]"
      ]
     },
     "execution_count": 4,
     "metadata": {},
     "output_type": "execute_result"
    }
   ],
   "source": [
    "arr"
   ]
  },
  {
   "cell_type": "code",
   "execution_count": 5,
   "metadata": {
    "collapsed": false
   },
   "outputs": [],
   "source": [
    "# 삼각형 제일 바닥부터 올라가는 경우로생각\n",
    "for x in reversed(range(len(arr)-1)):\n",
    "    for y in range(len(arr[x])):    \n",
    "        #밑에서 두번째행에서를 시작으로보면, 마지막행의 0번째가 1번째보다 크면 0번째를 더해주고\n",
    "        if(arr[x+1][y]>arr[x+1][y+1]):\n",
    "            arr[x][y]+=arr[x+1][y]\n",
    "        #0번재가 1번째보다 작으면 1번째를 더해준다\n",
    "        else:\n",
    "            arr[x][y]+=arr[x+1][y+1]"
   ]
  },
  {
   "cell_type": "code",
   "execution_count": 7,
   "metadata": {
    "collapsed": false
   },
   "outputs": [
    {
     "data": {
      "text/plain": [
       "[[1074],\n",
       " [995, 999],\n",
       " [818, 900, 935],\n",
       " [704, 801, 853, 792],\n",
       " [686, 640, 766, 731, 782],\n",
       " [666, 614, 636, 684, 660, 717],\n",
       " [647, 501, 613, 609, 533, 657, 683],\n",
       " [559, 499, 479, 536, 514, 526, 594, 616],\n",
       " [460, 434, 419, 475, 508, 470, 510, 524, 487],\n",
       " [419, 365, 393, 387, 419, 425, 430, 376, 454, 322],\n",
       " [378, 317, 231, 321, 354, 372, 393, 354, 360, 293, 247],\n",
       " [325, 246, 187, 178, 256, 329, 273, 302, 263, 242, 193, 233],\n",
       " [255, 235, 154, 150, 140, 179, 256, 209, 224, 172, 174, 176, 148],\n",
       " [125, 164, 102, 95, 112, 123, 165, 128, 166, 109, 122, 147, 100, 54],\n",
       " [4, 62, 98, 27, 23, 9, 70, 98, 73, 93, 38, 53, 60, 4, 23]]"
      ]
     },
     "execution_count": 7,
     "metadata": {},
     "output_type": "execute_result"
    }
   ],
   "source": [
    "arr"
   ]
  },
  {
   "cell_type": "code",
   "execution_count": 8,
   "metadata": {
    "collapsed": false
   },
   "outputs": [
    {
     "name": "stdout",
     "output_type": "stream",
     "text": [
      "1074\n"
     ]
    }
   ],
   "source": [
    "print arr[0][0]"
   ]
  }
 ],
 "metadata": {
  "kernelspec": {
   "display_name": "Python 2",
   "language": "python",
   "name": "python2"
  },
  "language_info": {
   "codemirror_mode": {
    "name": "ipython",
    "version": 2
   },
   "file_extension": ".py",
   "mimetype": "text/x-python",
   "name": "python",
   "nbconvert_exporter": "python",
   "pygments_lexer": "ipython2",
   "version": "2.7.9"
  }
 },
 "nbformat": 4,
 "nbformat_minor": 0
}
