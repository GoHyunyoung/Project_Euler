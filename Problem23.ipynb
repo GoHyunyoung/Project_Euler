{
 "cells": [
  {
   "cell_type": "markdown",
   "metadata": {},
   "source": [
    "자신을 제외한 약수(진약수)를 모두 더하면 자기 자신이 되는 수를 완전수라고 합니다.<br/>\n",
    "예를 들어 28은 1 + 2 + 4 + 7 + 14 = 28 이므로 완전수입니다.<br/>\n",
    "또, 진약수의 합이 자신보다 작으면 부족수, 자신보다 클 때는 초과수라고 합니다.<br/>\n",
    "<br/>\n",
    "12는 1 + 2 + 3 + 4 + 6 = 16 > 12 로서 초과수 중에서는 가장 작습니다.<br/>\n",
    "따라서 초과수 두 개의 합으로 나타낼 수 있는 수 중 가장 작은 수는 24 (= 12 + 12) 입니다.\n",
    "<br/>\n",
    "해석학적인 방법을 사용하면, 28123을 넘는 모든 정수는 두 초과수의 합으로 표현 가능함을 보일 수가 있습니다.<br/>\n",
    "두 초과수의 합으로 나타낼 수 없는 가장 큰 수는 실제로는 이 한계값보다 작지만, 해석학적인 방법으로는 더 이상 이 한계값을 낮출 수 없다고 합니다.<br/>\n",
    "<br/>\n",
    "그렇다면, 초과수 두 개의 합으로 나타낼 수 없는 모든 양의 정수의 합은 얼마입니까?<br/>"
   ]
  },
  {
   "cell_type": "markdown",
   "metadata": {},
   "source": [
    "---\n",
    "'28123' 초과의 모든 정수는 2개의 초과수의 합으로 표현이 가능함(해석학적인 방법으로 그러하다고한다.)<br/>\n",
    "Q. 초과수 2개의 합으로 나타낼수 없는 모든양의 정수의 합은? ==>\n",
    "<br/>\n",
    "### Q.  1~28123중에 초과수 2개의 합으로 나오지 않는 값들의 합은??"
   ]
  },
  {
   "cell_type": "code",
   "execution_count": 1,
   "metadata": {
    "collapsed": true
   },
   "outputs": [],
   "source": [
    "MAX=28123"
   ]
  },
  {
   "cell_type": "code",
   "execution_count": 2,
   "metadata": {
    "collapsed": false
   },
   "outputs": [],
   "source": [
    "def divisorList(n):\n",
    "    'returns divisor number list of n(number)'\n",
    "    result=set()\n",
    "    for x in range(1,n/2+1):\n",
    "        if n%x==0:\n",
    "            result.add(x)\n",
    "            result.add(n/x)\n",
    "    #리스트 형태 반환\n",
    "    result=list(result)\n",
    "    return result"
   ]
  },
  {
   "cell_type": "code",
   "execution_count": 3,
   "metadata": {
    "collapsed": false
   },
   "outputs": [],
   "source": [
    "def isExcd(n):\n",
    "    'returns True if n(number) == exceed number'\n",
    "    if sum(divisorList(n)) > 2*n:\n",
    "        return True\n",
    "    else:\n",
    "        return False"
   ]
  },
  {
   "cell_type": "code",
   "execution_count": 4,
   "metadata": {
    "collapsed": false
   },
   "outputs": [],
   "source": [
    "#excdSet에 1~28123까지 초과수인 수들 보관\n",
    "excdSet=set()\n",
    "for x in range(1,MAX+1):\n",
    "    if isExcd(x):\n",
    "        excdSet.add(x)"
   ]
  },
  {
   "cell_type": "code",
   "execution_count": 5,
   "metadata": {
    "collapsed": true
   },
   "outputs": [],
   "source": [
    "## 초과수 2개의 합으로 나올수 있는 값들을 tmp에 넣기\n",
    "tmp=set()\n",
    "for x in excdSet:\n",
    "    for y in excdSet:\n",
    "        if x+y<=MAX:\n",
    "            tmp.add(x+y)"
   ]
  },
  {
   "cell_type": "code",
   "execution_count": 6,
   "metadata": {
    "collapsed": false
   },
   "outputs": [
    {
     "name": "stdout",
     "output_type": "stream",
     "text": [
      "4179871\n"
     ]
    }
   ],
   "source": [
    "print sum(range(1,MAX+1))-sum(tmp)"
   ]
  }
 ],
 "metadata": {
  "kernelspec": {
   "display_name": "Python 2",
   "language": "python",
   "name": "python2"
  },
  "language_info": {
   "codemirror_mode": {
    "name": "ipython",
    "version": 2
   },
   "file_extension": ".py",
   "mimetype": "text/x-python",
   "name": "python",
   "nbconvert_exporter": "python",
   "pygments_lexer": "ipython2",
   "version": "2.7.9"
  }
 },
 "nbformat": 4,
 "nbformat_minor": 0
}
