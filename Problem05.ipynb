{
 "cells": [
  {
   "cell_type": "markdown",
   "metadata": {},
   "source": [
    "<a href='http://euler.synap.co.kr/prob_detail.php?id=5'>\n",
    "<h2>Question_05</h2></a><br>\n",
    "\n",
    "---\n",
    "####1 ~ 10 사이의 어떤 수로도 나누어 떨어지는 가장 작은 수는 2520입니다.\n",
    "####그러면 1 ~ 20 사이의 어떤 수로도 나누어 떨어지는 가장 작은 수는 얼마입니까?\n",
    "---"
   ]
  },
  {
   "cell_type": "code",
   "execution_count": 1,
   "metadata": {
    "collapsed": false
   },
   "outputs": [],
   "source": [
    "def LCM(num_list): #Least Common Multiple(최소공배수)\n",
    "    result=1\n",
    "\n",
    "    #최소공배수 찾기    \n",
    "    while not(all(element==1 for element in num_list)):   #num_list의 모든 원소가 1일때 까지\n",
    "\n",
    "        #1. 리스트에서 1제거\n",
    "        cnt=0\n",
    "        while cnt<=num_list.count(1):\n",
    "            num_list.remove(1)\n",
    "            cnt+=1\n",
    "            \n",
    "        print 'list:',num_list\n",
    "        #2. 리스트에서 가장 작은수 뽑기\n",
    "        min_num=min(num_list)\n",
    "        \n",
    "        print 'min_num:',min_num\n",
    "        #3. 리스트를 min_num으로 나누기\n",
    "        for x in num_list:   # 변수 x 가 num_list를 탐색\n",
    "            if x%min_num==0:   # 나눠지는 수가 있으면 나눈다.\n",
    "                num_list[num_list.index(x)]/=min_num\n",
    "        result*=min_num\n",
    "            \n",
    "    return result"
   ]
  },
  {
   "cell_type": "code",
   "execution_count": 2,
   "metadata": {
    "collapsed": false
   },
   "outputs": [
    {
     "name": "stdout",
     "output_type": "stream",
     "text": [
      "list: [2, 3, 4, 5, 6, 7, 8, 9, 10]\n",
      "min_num: 2\n",
      "list: [3, 2, 5, 3, 7, 4, 9, 5]\n",
      "min_num: 2\n",
      "list: [3, 5, 3, 7, 2, 9, 5]\n",
      "min_num: 2\n",
      "list: [3, 5, 3, 7, 9, 5]\n",
      "min_num: 3\n",
      "list: [5, 7, 3, 5]\n",
      "min_num: 3\n",
      "list: [5, 7, 5]\n",
      "min_num: 5\n",
      "list: [7]\n",
      "min_num: 7\n"
     ]
    },
    {
     "data": {
      "text/plain": [
       "2520"
      ]
     },
     "execution_count": 2,
     "metadata": {},
     "output_type": "execute_result"
    }
   ],
   "source": [
    "LCM([1,2,3,4,5,6,7,8,9,10])"
   ]
  },
  {
   "cell_type": "code",
   "execution_count": 3,
   "metadata": {
    "collapsed": false
   },
   "outputs": [
    {
     "name": "stdout",
     "output_type": "stream",
     "text": [
      "list: [2, 3, 4, 5, 6, 7, 8, 9, 10, 11, 12, 13, 14, 15, 16, 17, 18, 19]\n",
      "min_num: 2\n",
      "list: [3, 2, 5, 3, 7, 4, 9, 5, 11, 6, 13, 7, 15, 8, 17, 9, 19]\n",
      "min_num: 2\n",
      "list: [3, 5, 3, 7, 2, 9, 5, 11, 3, 13, 7, 15, 4, 17, 9, 19]\n",
      "min_num: 2\n",
      "list: [3, 5, 3, 7, 9, 5, 11, 3, 13, 7, 15, 2, 17, 9, 19]\n",
      "min_num: 2\n",
      "list: [3, 5, 3, 7, 9, 5, 11, 3, 13, 7, 15, 17, 9, 19]\n",
      "min_num: 3\n",
      "list: [5, 7, 1, 5, 11, 3, 13, 7, 5, 17, 3, 19]\n",
      "min_num: 1\n",
      "list: [5, 7, 5, 11, 3, 13, 7, 5, 17, 3, 19]\n",
      "min_num: 3\n",
      "list: [5, 7, 5, 11, 13, 7, 5, 17, 19]\n",
      "min_num: 5\n",
      "list: [7, 11, 13, 7, 1, 17, 19]\n",
      "min_num: 1\n",
      "list: [7, 11, 13, 7, 17, 19]\n",
      "min_num: 7\n",
      "list: [11, 13, 17, 19]\n",
      "min_num: 11\n",
      "list: [13, 17, 19]\n",
      "min_num: 13\n",
      "list: [17, 19]\n",
      "min_num: 17\n",
      "list: [19]\n",
      "min_num: 19\n"
     ]
    },
    {
     "data": {
      "text/plain": [
       "232792560"
      ]
     },
     "execution_count": 3,
     "metadata": {},
     "output_type": "execute_result"
    }
   ],
   "source": [
    "LCM(range(1,20))"
   ]
  }
 ],
 "metadata": {
  "kernelspec": {
   "display_name": "Python 2",
   "language": "python",
   "name": "python2"
  },
  "language_info": {
   "codemirror_mode": {
    "name": "ipython",
    "version": 2
   },
   "file_extension": ".py",
   "mimetype": "text/x-python",
   "name": "python",
   "nbconvert_exporter": "python",
   "pygments_lexer": "ipython2",
   "version": "2.7.9"
  }
 },
 "nbformat": 4,
 "nbformat_minor": 0
}
