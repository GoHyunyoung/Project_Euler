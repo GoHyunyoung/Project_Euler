{
 "metadata": {
  "name": "",
  "signature": "sha256:75ec2327152ce2ab1be863f959f3dc64371416ff34fce6dce6b9fb37d49846f1"
 },
 "nbformat": 3,
 "nbformat_minor": 0,
 "worksheets": [
  {
   "cells": [
    {
     "cell_type": "markdown",
     "metadata": {},
     "source": [
      "<a href='http://euler.synap.co.kr/prob_detail.php?id=19'>\n",
      "<h2>Question_19</h2></a><br>\n",
      "\n",
      "---\n",
      "\ub2e4\uc74c\uc740 \ub2ec\ub825\uc5d0 \uad00\ud55c \uba87 \uac00\uc9c0 \uc77c\ubc18\uc801\uc778 \uc815\ubcf4\uc785\ub2c8\ub2e4 (\ud544\uc694\ud55c \uacbd\uc6b0 \uc880 \ub354 \uc5f0\uad6c\ub97c \ud574 \ubcf4\uc154\ub3c4 \uc88b\uc2b5\ub2c8\ub2e4).\n",
      "\n",
      "- 1900\ub144 1\uc6d4 1\uc77c\uc740 \uc6d4\uc694\uc77c\uc774\ub2e4.\n",
      "\n",
      "- 4\uc6d4, 6\uc6d4, 9\uc6d4, 11\uc6d4\uc740 30\uc77c\uae4c\uc9c0 \uc788\uace0, 1\uc6d4, 3\uc6d4, 5\uc6d4, 7\uc6d4, 8\uc6d4, 10\uc6d4, 12\uc6d4\uc740 31\uc77c\uae4c\uc9c0 \uc788\ub2e4.\n",
      "\n",
      "- 2\uc6d4\uc740 28\uc77c\uc774\uc9c0\ub9cc, \uc724\ub144\uc5d0\ub294 29\uc77c\uae4c\uc9c0 \uc788\ub2e4.\n",
      "\n",
      "- \uc724\ub144\uc740 \uc5f0\ub3c4\ub97c 4\ub85c \ub098\ub204\uc5b4 \ub5a8\uc5b4\uc9c0\ub294 \ud574\ub97c \ub9d0\ud55c\ub2e4. \ud558\uc9c0\ub9cc 400\uc73c\ub85c \ub098\ub204\uc5b4 \ub5a8\uc5b4\uc9c0\uc9c0 \uc54a\ub294 \ub9e4 100\ub144\uc9f8\ub294 \uc724\ub144\uc774 \uc544\ub2c8\uba70, 400\uc73c\ub85c \ub098\ub204\uc5b4 \ub5a8\uc5b4\uc9c0\uba74 \uc724\ub144\uc774\ub2e4.\n",
      "\n",
      "20\uc138\uae30 (1901\ub144 1\uc6d4 1\uc77c ~ 2000\ub144 12\uc6d4 31\uc77c) \uc5d0\uc11c, \ub9e4\uc6d4 1\uc77c\uc774 \uc77c\uc694\uc77c\uc778 \uacbd\uc6b0\ub294 \ucd1d \uba87 \ubc88\uc785\ub2c8\uae4c?\n",
      "\n",
      "---"
     ]
    },
    {
     "cell_type": "code",
     "collapsed": false,
     "input": [
      "cnt=0\n",
      "for x in range(1901,2000+1):\n",
      "    for y in range(1,12+1):\n",
      "        if weekday(x,y,1)==6:\n",
      "            cnt+=1\n",
      "        \n",
      "print cnt"
     ],
     "language": "python",
     "metadata": {},
     "outputs": [
      {
       "output_type": "stream",
       "stream": "stdout",
       "text": [
        "171\n"
       ]
      }
     ],
     "prompt_number": 53
    }
   ],
   "metadata": {}
  }
 ]
}