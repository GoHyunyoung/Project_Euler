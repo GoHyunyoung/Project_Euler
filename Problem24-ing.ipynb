{
 "metadata": {
  "name": "",
  "signature": "sha256:3871a5a8c58a733a38cbe907358c638e97d5e724dd00e8a5ec6358f1e333f200"
 },
 "nbformat": 3,
 "nbformat_minor": 0,
 "worksheets": [
  {
   "cells": [
    {
     "cell_type": "markdown",
     "metadata": {},
     "source": [
      "<a href='http://euler.synap.co.kr/prob_detail.php?id=24'>\n",
      "<h2>Question_24</h2></a><br>\n",
      "\n",
      "---\n",
      "\n",
      "\uc5b4\ub5a4 \ub300\uc0c1\uc744 \uc21c\uc11c\uc5d0 \ub530\ub77c \ubc30\uc5f4\ud55c \uac83\uc744 \uc21c\uc5f4\uc774\ub77c\uace0 \ud569\ub2c8\ub2e4. \uc608\ub97c \ub4e4\uc5b4 3124\ub294 \uc22b\uc790 1, 2, 3, 4\ub85c \ub9cc\ub4e4 \uc218 \uc788\ub294 \uc21c\uc5f4 \uc911 \ud558\ub098\uc785\ub2c8\ub2e4.<br/>\n",
      "\n",
      "\uc774\ub807\uac8c \ub9cc\ub4e4 \uc218 \uc788\ub294 \ubaa8\ub4e0 \uc21c\uc5f4\uc744 \uc22b\uc790\ub098 \ubb38\uc790 \uc21c\uc73c\ub85c \ub298\uc5b4\ub193\uc740 \uac83\uc744 \uc0ac\uc804\uc2dd(lexicographic) \uc21c\uc11c\ub77c\uace0 \ud569\ub2c8\ub2e4.<br/>\n",
      "0, 1, 2\ub85c \ub9cc\ub4e4 \uc218 \uc788\ub294 \uc0ac\uc804\uc2dd \uc21c\uc5f4\uc740 \ub2e4\uc74c\uacfc \uac19\uc2b5\ub2c8\ub2e4.<br/>\n",
      "\n",
      "012   021   102   120   201   210<br/><br/>\n",
      "0, 1, 2, 3, 4, 5, 6, 7, 8, 9\ub85c \ub9cc\ub4e4 \uc218 \uc788\ub294 \uc0ac\uc804\uc2dd \uc21c\uc5f4\uc5d0\uc11c 1,000,000\ubc88\uc9f8\ub294 \ubb34\uc5c7\uc785\ub2c8\uae4c?\n",
      "\n",
      "---"
     ]
    },
    {
     "cell_type": "code",
     "collapsed": false,
     "input": [],
     "language": "python",
     "metadata": {},
     "outputs": [],
     "prompt_number": 8
    }
   ],
   "metadata": {}
  }
 ]
}