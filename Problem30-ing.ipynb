{
 "metadata": {
  "name": "",
  "signature": "sha256:451bdc727007b325de4592f27ab69d9bdfae4eb7ee45868c7d2eb298236b3234"
 },
 "nbformat": 3,
 "nbformat_minor": 0,
 "worksheets": [
  {
   "cells": [
    {
     "cell_type": "markdown",
     "metadata": {},
     "source": [
      "\uac01 \uc790\ub9ac\uc758 \uc22b\uc790\ub97c 4\uc81c\uacf1\ud574\uc11c \ub354\ud588\uc744 \ub54c \uc790\uae30 \uc790\uc2e0\uc774 \ub418\ub294 \uc218\ub294 \ub180\ub78d\uac8c\ub3c4 \ub2e8 \uc138 \uac1c\ubc16\uc5d0 \uc5c6\uc2b5\ub2c8\ub2e4.\n",
      "\n",
      "1634 = 1<sup>4</sup> + 6<sup>4</sup> + 3<sup>4</sup> + 4<sup>4</sup><br/>\n",
      "8208 = 8<sup>4</sup> + 2<sup>4</sup> + 0<sup>4</sup> + 8<sup>4</sup><br/>\n",
      "9474 = 9<sup>4</sup> + 4<sup>4</sup> + 7<sup>4</sup> + 4<sup>4</sup><br/>\n",
      "(1 = 1<sup>4</sup>\uc758 \uacbd\uc6b0\ub294 \uc5c4\ubc00\ud788 \ub9d0\ud574 \ud569\uc774 \uc544\ub2c8\ubbc0\ub85c \uc81c\uc678\ud569\ub2c8\ub2e4)\n",
      "\n",
      "\uc704\uc758 \uc138 \uc22b\uc790\ub97c \ubaa8\ub450 \ub354\ud558\uba74 1634 + 8208 + 9474 = 19316 \uc785\ub2c8\ub2e4.\n",
      "\n",
      "\uadf8\ub807\ub2e4\uba74, \uac01 \uc790\ub9ac \uc22b\uc790\ub97c 5\uc81c\uacf1\ud574\uc11c \ub354\ud588\uc744 \ub54c \uc790\uae30 \uc790\uc2e0\uc774 \ub418\ub294 \uc218\ub4e4\uc758 \ud569\uc740 \uc5bc\ub9c8\uc785\ub2c8\uae4c?"
     ]
    },
    {
     "cell_type": "code",
     "collapsed": false,
     "input": [],
     "language": "python",
     "metadata": {},
     "outputs": []
    }
   ],
   "metadata": {}
  }
 ]
}