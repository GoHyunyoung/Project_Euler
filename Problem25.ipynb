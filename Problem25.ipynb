{
 "metadata": {
  "name": "",
  "signature": "sha256:cb958d05584e40f85defc1f01c5eb6a1106603d23c2a56ff3a8c6e53e7074521"
 },
 "nbformat": 3,
 "nbformat_minor": 0,
 "worksheets": [
  {
   "cells": [
    {
     "cell_type": "markdown",
     "metadata": {},
     "source": [
      "<a href='http://euler.synap.co.kr/prob_detail.php?id=25'>\n",
      "<h2>Question_25</h2></a><br>\n",
      "\n",
      "---\n",
      "\ud53c\ubcf4\ub098\uce58 \uc218\uc5f4\uc740 \uc544\ub798\uc640 \uac19\uc740 \uc810\ud654\uc2dd\uc73c\ub85c \uc815\uc758\ub429\ub2c8\ub2e4.\n",
      "\n",
      "F<sub>n</sub> = F<sub>n-1</sub> + F<sub>n-2</sub>  (\ub2e8, F<sub>1</sub> = 1, F<sub>2</sub> = 1).\n",
      "\n",
      "\uc774\uc5d0 \ub530\ub77c \uc218\uc5f4\uc744 12\ubc88\uc9f8 \ud56d\uae4c\uc9c0 \ucc28\ub840\ub300\ub85c \uacc4\uc0b0\ud558\uba74 \ub2e4\uc74c\uacfc \uac19\uc2b5\ub2c8\ub2e4.\n",
      "<div style='line-height:30%'>\n",
      "F<sub>1</sub> = 1\n",
      "\n",
      "F<sub>2</sub> = 1\n",
      "\n",
      "F<sub>3</sub> = 2\n",
      "\n",
      "F<sub>4</sub> = 3\n",
      "\n",
      "F<sub>5</sub> = 5\n",
      "\n",
      "F<sub>6</sub> = 8\n",
      "\n",
      "F<sub>7</sub> = 13\n",
      "\n",
      "F<sub>8</sub> = 21\n",
      "\n",
      "F<sub>9</sub> = 34\n",
      "\n",
      "F<sub>10</sub> = 55\n",
      "\n",
      "F<sub>11</sub> = 89\n",
      "\n",
      "F<sub>12</sub> = 144  </div style>\n",
      "\n",
      "\uc218\uc5f4\uc758 \uac12\uc740 F<sub>12</sub>\uc5d0\uc11c \ucc98\uc74c\uc73c\ub85c 3\uc790\ub9ac\uac00 \ub429\ub2c8\ub2e4.\n",
      "\n",
      "\ud53c\ubcf4\ub098\uce58 \uc218\uc5f4\uc5d0\uc11c \uac12\uc774 \ucc98\uc74c\uc73c\ub85c 1000\uc790\ub9ac\uac00 \ub418\ub294 \uac83\uc740 \uba87\ubc88\uc9f8 \ud56d\uc785\ub2c8\uae4c?\n",
      "\n",
      "---"
     ]
    },
    {
     "cell_type": "code",
     "collapsed": false,
     "input": [
      "n1=1\n",
      "n2=1\n",
      "n3=0\n",
      "cnt=1\n",
      "while len(str(n1))<1000:\n",
      "    n3=n1+n2\n",
      "    n1=n2\n",
      "    n2=n3\n",
      "    cnt+=1\n",
      "print cnt"
     ],
     "language": "python",
     "metadata": {},
     "outputs": [
      {
       "output_type": "stream",
       "stream": "stdout",
       "text": [
        "4782\n"
       ]
      }
     ],
     "prompt_number": 15
    }
   ],
   "metadata": {}
  }
 ]
}