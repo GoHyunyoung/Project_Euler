{
 "cells": [
  {
   "cell_type": "markdown",
   "metadata": {},
   "source": [
    "<a href='http://euler.synap.co.kr/prob_detail.php?id=4'>\n",
    "<h2>Question_04</h2></a><br>\n",
    "\n",
    "---\n",
    "####앞에서부터 읽을 때나 뒤에서부터 읽을 때나 모양이 같은 수를 대칭수(palindrome)라고 부릅니다.\n",
    "####두 자리 수를 곱해 만들 수 있는 대칭수 중 가장 큰 수는 9009 (= 91 × 99) 입니다.\n",
    "####세 자리 수를 곱해 만들 수 있는 가장 큰 대칭수는 얼마입니까?\n",
    "---"
   ]
  },
  {
   "cell_type": "code",
   "execution_count": 1,
   "metadata": {
    "collapsed": false,
    "scrolled": true
   },
   "outputs": [],
   "source": [
    "# n을 reverse한 문자열을 반환\n",
    "def revStr(s):\n",
    "    tmp=''\n",
    "    for x in reversed(s):\n",
    "        tmp+=x\n",
    "        \n",
    "    return tmp"
   ]
  },
  {
   "cell_type": "code",
   "execution_count": 2,
   "metadata": {
    "collapsed": false,
    "scrolled": true
   },
   "outputs": [],
   "source": [
    "# in:number\n",
    "# out:number가 대칭수(palindrome)이면 True\n",
    "def isPld(s):\n",
    "    if type(s)==int:   #숫자는 str으로 변환\n",
    "        s=str(s)   \n",
    "        \n",
    "    front=s[:len(s)/2]   # s의 앞부분\n",
    "    end=s[len(s)/2:]     # s의 뒷부분\n",
    "\n",
    "    if front == revStr(end):\n",
    "        return True\n",
    "    return False"
   ]
  },
  {
   "cell_type": "code",
   "execution_count": 3,
   "metadata": {
    "collapsed": false,
    "scrolled": true
   },
   "outputs": [
    {
     "name": "stdout",
     "output_type": "stream",
     "text": [
      "906609\n"
     ]
    }
   ],
   "source": [
    "BgstPld=0\n",
    "prev_x=0\n",
    "prev_y=0\n",
    "\n",
    "for x in reversed(range(100,1000)):\n",
    "    for y in reversed(range(100,1000)):\n",
    "        if prev_x > x and prev_y > y:   #연산속도를 위해 추간\n",
    "            continue\n",
    "            \n",
    "        if isPld(x*y) and BgstPld<=(x*y):\n",
    "            BgstPld=x*y\n",
    "            prev_x=x\n",
    "            prev_y=y\n",
    "            \n",
    "print BgstPld"
   ]
  }
 ],
 "metadata": {
  "kernelspec": {
   "display_name": "Python 2",
   "language": "python",
   "name": "python2"
  },
  "language_info": {
   "codemirror_mode": {
    "name": "ipython",
    "version": 2
   },
   "file_extension": ".py",
   "mimetype": "text/x-python",
   "name": "python",
   "nbconvert_exporter": "python",
   "pygments_lexer": "ipython2",
   "version": "2.7.9"
  }
 },
 "nbformat": 4,
 "nbformat_minor": 0
}
