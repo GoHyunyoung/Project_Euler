{
 "cells": [
  {
   "cell_type": "markdown",
   "metadata": {},
   "source": [
    "<a href='http://euler.synap.co.kr/prob_detail.php?id=7'>\n",
    "<h2>Question_07</h2></a><br>\n",
    "\n",
    "---\n",
    "####소수를 크기 순으로 나열하면 2, 3, 5, 7, 11, 13, ... 과 같이 됩니다.\n",
    "####이 때 10,001번째의 소수를 구하세요.\n",
    "---"
   ]
  },
  {
   "cell_type": "code",
   "execution_count": 1,
   "metadata": {
    "collapsed": false
   },
   "outputs": [],
   "source": [
    "import math\n",
    "def isPrNum(n):\n",
    "    if n==0 or n==1:\n",
    "        return False\n",
    "    for x in range(2,int(math.sqrt(n))+1):\n",
    "        if n%x==0:   #n이 2~sqrt(n) 사이의 어떤수로 나누어진다면 소수가 아님\n",
    "            return False\n",
    "    return True"
   ]
  },
  {
   "cell_type": "code",
   "execution_count": 2,
   "metadata": {
    "collapsed": false
   },
   "outputs": [
    {
     "name": "stdout",
     "output_type": "stream",
     "text": [
      "10001번째 소수 :  104743\n"
     ]
    }
   ],
   "source": [
    "cnt=1;val=1\n",
    "while True:\n",
    "    if isPrNum(val):\n",
    "        if cnt >= 10001:\n",
    "            print '%d번째 소수 : '%cnt,val\n",
    "            break\n",
    "        cnt+=1    \n",
    "    val+=1"
   ]
  }
 ],
 "metadata": {
  "kernelspec": {
   "display_name": "Python 2",
   "language": "python",
   "name": "python2"
  },
  "language_info": {
   "codemirror_mode": {
    "name": "ipython",
    "version": 2
   },
   "file_extension": ".py",
   "mimetype": "text/x-python",
   "name": "python",
   "nbconvert_exporter": "python",
   "pygments_lexer": "ipython2",
   "version": "2.7.9"
  }
 },
 "nbformat": 4,
 "nbformat_minor": 0
}
