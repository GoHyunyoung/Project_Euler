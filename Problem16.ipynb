{
 "metadata": {
  "kernelspec": {
   "display_name": "Python 2",
   "language": "python",
   "name": "python2"
  },
  "language_info": {
   "codemirror_mode": {
    "name": "ipython",
    "version": 2
   },
   "file_extension": ".py",
   "mimetype": "text/x-python",
   "name": "python",
   "nbconvert_exporter": "python",
   "pygments_lexer": "ipython2",
   "version": "2.7.9"
  },
  "name": "",
  "signature": "sha256:a632924b6ecfe1c83194f0122d5f2623fef1b05e649775314a264e2dcd9d796c"
 },
 "nbformat": 3,
 "nbformat_minor": 0,
 "worksheets": [
  {
   "cells": [
    {
     "cell_type": "markdown",
     "metadata": {},
     "source": [
      "<a href='http://euler.synap.co.kr/prob_detail.php?id=16'>\n",
      "<h2>Question_16</h2></a><br>\n",
      "\n",
      "---\n",
      "2<sup>15</sup> = 32768 \uc758 \uac01 \uc790\ub9ac\uc218\ub97c \ub354\ud558\uba74 3 + 2 + 7 + 6 + 8 = 26 \uc785\ub2c8\ub2e4.\n",
      "\n",
      "2<sup>1000</sup>\uc758 \uac01 \uc790\ub9ac\uc218\ub97c \ubaa8\ub450 \ub354\ud558\uba74 \uc5bc\ub9c8\uc785\ub2c8\uae4c?\n",
      "\n",
      "---"
     ]
    },
    {
     "cell_type": "code",
     "collapsed": false,
     "input": [
      "numStr=str(pow(2,1000))"
     ],
     "language": "python",
     "metadata": {
      "scrolled": true
     },
     "outputs": [],
     "prompt_number": 16
    },
    {
     "cell_type": "code",
     "collapsed": false,
     "input": [
      "result=0\n",
      "for i in range(len(numStr)):\n",
      "        result+=int(numStr[i])\n",
      "print result"
     ],
     "language": "python",
     "metadata": {},
     "outputs": [
      {
       "output_type": "stream",
       "stream": "stdout",
       "text": [
        "1366\n"
       ]
      }
     ],
     "prompt_number": 19
    },
    {
     "cell_type": "code",
     "collapsed": true,
     "input": [],
     "language": "python",
     "metadata": {},
     "outputs": [],
     "prompt_number": null
    }
   ],
   "metadata": {}
  }
 ]
}