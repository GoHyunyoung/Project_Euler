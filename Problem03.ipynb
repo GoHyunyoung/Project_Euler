{
 "cells": [
  {
   "cell_type": "markdown",
   "metadata": {},
   "source": [
    "<a href='http://euler.synap.co.kr/prob_detail.php?id=3'>\n",
    "<h2>Problem_03</h2></a><br>\n",
    "\n",
    "---\n",
    "####어떤 수를 소수의 곱으로만 나타내는 것을 소인수분해라 하고, 이 소수들을 그 수의 소인수라고 합니다.\n",
    "####예를 들면 13195의 소인수는 5, 7, 13, 29 입니다.\n",
    "####600851475143의 소인수 중에서 가장 큰 수를 구하세요.\n",
    "---"
   ]
  },
  {
   "cell_type": "code",
   "execution_count": 7,
   "metadata": {
    "collapsed": true
   },
   "outputs": [],
   "source": [
    "import math"
   ]
  },
  {
   "cell_type": "code",
   "execution_count": 8,
   "metadata": {
    "collapsed": true
   },
   "outputs": [],
   "source": [
    "def isEven(n):\n",
    "    if n%2==0:\n",
    "        return True\n",
    "    return False"
   ]
  },
  {
   "cell_type": "code",
   "execution_count": 9,
   "metadata": {
    "collapsed": false
   },
   "outputs": [],
   "source": [
    "#in:number\n",
    "#out:소수이면 True\n",
    "def isPrime(n):\n",
    "    if n>2:\n",
    "        if isEven(n):\n",
    "            return False\n",
    "        else:\n",
    "            cnt=3\n",
    "            flag=True\n",
    "            while cnt<=math.sqrt(n):\n",
    "                if n%cnt==0:\n",
    "                    flag=False\n",
    "                cnt+=2\n",
    "            return flag\n",
    "    elif n==2:\n",
    "        return True\n",
    "    else:\n",
    "        return False"
   ]
  },
  {
   "cell_type": "code",
   "execution_count": 10,
   "metadata": {
    "collapsed": false
   },
   "outputs": [],
   "source": [
    "#in:number\n",
    "#out:number의 소인수중에서 가장 큰수\n",
    "def BgstNum(n):\n",
    "    #형변환 문법 int(변환할 obj)\n",
    "    cnt=int(math.floor(math.sqrt(n)-1))\n",
    "    while True:\n",
    "        # cnt가 n의 약수 && cnt가 소수일때\n",
    "        if n%cnt==0 and isPrime(cnt):\n",
    "            return cnt\n",
    "        if cnt<0:\n",
    "            print(\"Input : Wrong number\")\n",
    "            break\n",
    "        cnt-=1"
   ]
  },
  {
   "cell_type": "code",
   "execution_count": 11,
   "metadata": {
    "collapsed": false,
    "scrolled": true
   },
   "outputs": [
    {
     "data": {
      "text/plain": [
       "6857"
      ]
     },
     "execution_count": 11,
     "metadata": {},
     "output_type": "execute_result"
    }
   ],
   "source": [
    "BgstNum(600851475143)"
   ]
  },
  {
   "cell_type": "markdown",
   "metadata": {},
   "source": [
    "###[Description]\n",
    "1. isPrime(n)은 n이 소수이면 True를 반환\n",
    "2. 먼저 cnt는 'n의 제곱근의 정수형태'를 참조하도록 한다.\n",
    "3. 그런후,  n%cnt==0(n이 cnt로 나누어 떨어지면서) 이면서 cnt가 소수이면 해당 값을 리턴<br />\n",
    "   -> n의 소인수중에가장 큰 값이 나올때가지 while문을 돌게됨"
   ]
  }
 ],
 "metadata": {
  "kernelspec": {
   "display_name": "Python 2",
   "language": "python",
   "name": "python2"
  },
  "language_info": {
   "codemirror_mode": {
    "name": "ipython",
    "version": 2
   },
   "file_extension": ".py",
   "mimetype": "text/x-python",
   "name": "python",
   "nbconvert_exporter": "python",
   "pygments_lexer": "ipython2",
   "version": "2.7.9"
  }
 },
 "nbformat": 4,
 "nbformat_minor": 0
}
